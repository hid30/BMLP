{
  "nbformat": 4,
  "nbformat_minor": 0,
  "metadata": {
    "colab": {
      "provenance": []
    },
    "kernelspec": {
      "name": "python3",
      "display_name": "Python 3"
    },
    "language_info": {
      "name": "python"
    }
  },
  "cells": [
    {
      "cell_type": "markdown",
      "source": [
        "# **1. Import Library**"
      ],
      "metadata": {
        "id": "fKADPWcFKlj3"
      }
    },
    {
      "cell_type": "markdown",
      "source": [
        "Pada tahap ini, Anda perlu mengimpor beberapa pustaka (library) Python yang dibutuhkan untuk analisis data dan pembangunan model machine learning."
      ],
      "metadata": {
        "id": "LgA3ERnVn84N"
      }
    },
    {
      "cell_type": "code",
      "source": [
        "import pandas as pd\n",
        "import numpy as np\n",
        "from sklearn.model_selection import train_test_split\n",
        "from sklearn.preprocessing import StandardScaler, LabelEncoder\n",
        "from sklearn.linear_model import LogisticRegression\n",
        "from sklearn.ensemble import RandomForestClassifier\n",
        "from sklearn.metrics import accuracy_score, f1_score, confusion_matrix\n",
        "from sklearn.model_selection import GridSearchCV\n",
        "import seaborn as sns\n",
        "import matplotlib.pyplot as plt"
      ],
      "metadata": {
        "id": "BlmvjLY9M4Yj"
      },
      "execution_count": 27,
      "outputs": []
    },
    {
      "cell_type": "markdown",
      "source": [
        "# **2. Memuat Dataset dari Hasil Clustering**"
      ],
      "metadata": {
        "id": "f3YIEnAFKrKL"
      }
    },
    {
      "cell_type": "markdown",
      "source": [
        "Memuat dataset hasil clustering dari file CSV ke dalam variabel DataFrame."
      ],
      "metadata": {
        "id": "Ey3ItwTen_7E"
      }
    },
    {
      "cell_type": "code",
      "source": [
        "from google.colab import drive\n",
        "drive.mount('/content/drive')\n",
        "\n",
        "# Memuat dataset CSV dari hasil clustering\n",
        "df = pd.read_csv('/content/drive/MyDrive/Colab Notebooks/dataset BMLP/datasetbank_final.csv')\n",
        "\n",
        "# Cek 5 baris pertama buat pastiin data ke-load\n",
        "print(\"5 Baris Pertama Dataset:\")\n",
        "print(df.head())\n",
        "\n",
        "# Cek info dataset (kolom, tipe data, dll.)\n",
        "print(\"\\nInfo Dataset:\")\n",
        "print(df.info())\n"
      ],
      "metadata": {
        "id": "GHCGNTyrM5fS",
        "colab": {
          "base_uri": "https://localhost:8080/"
        },
        "outputId": "16f9c44c-ff73-4276-a1fc-1d99e3a11eae"
      },
      "execution_count": 28,
      "outputs": [
        {
          "output_type": "stream",
          "name": "stdout",
          "text": [
            "Drive already mounted at /content/drive; to attempt to forcibly remount, call drive.mount(\"/content/drive\", force_remount=True).\n",
            "5 Baris Pertama Dataset:\n",
            "  TransactionID AccountID  TransactionAmount      TransactionDate  \\\n",
            "0      TX000001   AC00128          -0.971275  2023-04-11 16:29:14   \n",
            "1      TX000002   AC00455           0.269440  2023-06-27 16:44:19   \n",
            "2      TX000003   AC00019          -0.586882  2023-07-10 18:16:08   \n",
            "3      TX000004   AC00070          -0.387456  2023-05-05 16:32:11   \n",
            "4      TX000005   AC00411          -0.973468  2023-10-16 17:51:24   \n",
            "\n",
            "   TransactionType   Location DeviceID      IP Address MerchantID Channel  \\\n",
            "0                1  San Diego  D000380  162.198.218.92       M015     ATM   \n",
            "1                1    Houston  D000051     13.149.61.4       M052     ATM   \n",
            "2                1       Mesa  D000235  215.97.143.157       M009  Online   \n",
            "3                1    Raleigh  D000187  200.13.225.150       M002  Online   \n",
            "4                0    Atlanta  D000308    65.164.3.100       M091  Online   \n",
            "\n",
            "   CustomerAge  CustomerOccupation  TransactionDuration  LoginAttempts  \\\n",
            "0     1.423718                   0            -0.552443      -0.206794   \n",
            "1     1.311287                   0             0.305314      -0.206794   \n",
            "2    -1.443277                   3            -0.909842      -0.206794   \n",
            "3    -1.049768                   3            -1.353017      -0.206794   \n",
            "4    -1.049768                   3             1.120184      -0.206794   \n",
            "\n",
            "   AccountBalance PreviousTransactionDate  Cluster      PCA1      PCA2  \n",
            "0       -0.000537     2024-11-04 08:08:08        0 -1.686708 -0.571257  \n",
            "1        2.216472     2024-11-04 08:09:35        0 -2.866434  0.001604  \n",
            "2       -1.023534     2024-11-04 08:07:04        1  2.219834 -0.692050  \n",
            "3        0.885797     2024-11-04 08:09:06        0  0.962796 -1.028082  \n",
            "4        0.593589     2024-11-04 08:06:39        2  1.103195  0.758936  \n",
            "\n",
            "Info Dataset:\n",
            "<class 'pandas.core.frame.DataFrame'>\n",
            "RangeIndex: 2512 entries, 0 to 2511\n",
            "Data columns (total 19 columns):\n",
            " #   Column                   Non-Null Count  Dtype  \n",
            "---  ------                   --------------  -----  \n",
            " 0   TransactionID            2512 non-null   object \n",
            " 1   AccountID                2512 non-null   object \n",
            " 2   TransactionAmount        2512 non-null   float64\n",
            " 3   TransactionDate          2512 non-null   object \n",
            " 4   TransactionType          2512 non-null   int64  \n",
            " 5   Location                 2512 non-null   object \n",
            " 6   DeviceID                 2512 non-null   object \n",
            " 7   IP Address               2512 non-null   object \n",
            " 8   MerchantID               2512 non-null   object \n",
            " 9   Channel                  2512 non-null   object \n",
            " 10  CustomerAge              2512 non-null   float64\n",
            " 11  CustomerOccupation       2512 non-null   int64  \n",
            " 12  TransactionDuration      2512 non-null   float64\n",
            " 13  LoginAttempts            2512 non-null   float64\n",
            " 14  AccountBalance           2512 non-null   float64\n",
            " 15  PreviousTransactionDate  2512 non-null   object \n",
            " 16  Cluster                  2512 non-null   int64  \n",
            " 17  PCA1                     2512 non-null   float64\n",
            " 18  PCA2                     2512 non-null   float64\n",
            "dtypes: float64(7), int64(3), object(9)\n",
            "memory usage: 373.0+ KB\n",
            "None\n"
          ]
        }
      ]
    },
    {
      "cell_type": "markdown",
      "source": [
        "# **3. Data Splitting**"
      ],
      "metadata": {
        "id": "KkPem5eWL2UP"
      }
    },
    {
      "cell_type": "markdown",
      "source": [
        "Tahap Data Splitting bertujuan untuk memisahkan dataset menjadi dua bagian: data latih (training set) dan data uji (test set)."
      ],
      "metadata": {
        "id": "YYj1rl_JNI9Y"
      }
    },
    {
      "cell_type": "code",
      "source": [
        "# Pilih fitur dan target\n",
        "features = ['TransactionAmount', 'TransactionDuration', 'AccountBalance', 'TransactionType', 'Channel', 'CustomerOccupation']\n",
        "X = df[features].copy()  # Tambahkan .copy() untuk membuat salinan eksplisit\n",
        "y = df['Cluster']\n",
        "\n",
        "# Encoding kolom kategorikal\n",
        "le = LabelEncoder()\n",
        "X.loc[:, 'TransactionType'] = le.fit_transform(X['TransactionType'])\n",
        "X.loc[:, 'Channel'] = le.fit_transform(X['Channel'])\n",
        "X.loc[:, 'CustomerOccupation'] = le.fit_transform(X['CustomerOccupation'])\n",
        "\n",
        "# Normalisasi fitur numerik\n",
        "scaler = StandardScaler()\n",
        "X.loc[:, ['TransactionAmount', 'TransactionDuration', 'AccountBalance']] = scaler.fit_transform(\n",
        "    X[['TransactionAmount', 'TransactionDuration', 'AccountBalance']]\n",
        ")\n",
        "\n",
        "# Split data menjadi training dan test set (80:20)\n",
        "X_train, X_test, y_train, y_test = train_test_split(X, y, test_size=0.2, random_state=42)\n",
        "\n",
        "print(\"Ukuran Training Set:\", X_train.shape)\n",
        "print(\"Ukuran Test Set:\", X_test.shape)"
      ],
      "metadata": {
        "id": "OubAW-7ONKVj",
        "colab": {
          "base_uri": "https://localhost:8080/"
        },
        "outputId": "c96bc411-7847-410f-cf71-b564a2b373ef"
      },
      "execution_count": 29,
      "outputs": [
        {
          "output_type": "stream",
          "name": "stdout",
          "text": [
            "Ukuran Training Set: (2009, 6)\n",
            "Ukuran Test Set: (503, 6)\n"
          ]
        }
      ]
    },
    {
      "cell_type": "markdown",
      "source": [
        "# **4. Membangun Model Klasifikasi**\n"
      ],
      "metadata": {
        "id": "IVPbB03CMhTT"
      }
    },
    {
      "cell_type": "markdown",
      "source": [
        "## **a. Membangun Model Klasifikasi**"
      ],
      "metadata": {
        "id": "Ned1pL9zMmBK"
      }
    },
    {
      "cell_type": "markdown",
      "source": [
        "Setelah memilih algoritma klasifikasi yang sesuai, langkah selanjutnya adalah melatih model menggunakan data latih.\n",
        "\n",
        "Berikut adalah rekomendasi tahapannya.\n",
        "1. Pilih algoritma klasifikasi yang sesuai, seperti Logistic Regression, Decision Tree, Random Forest, atau K-Nearest Neighbors (KNN).\n",
        "2. Latih model menggunakan data latih."
      ],
      "metadata": {
        "id": "WAWzPOE4Nkti"
      }
    },
    {
      "cell_type": "code",
      "source": [
        "\n",
        "# Model 1: Logistic Regression\n",
        "lr_model = LogisticRegression(max_iter=1000, random_state=42)\n",
        "lr_model.fit(X_train, y_train)\n",
        "\n",
        "# Model 2: Random Forest\n",
        "rf_model = RandomForestClassifier(random_state=42)\n",
        "rf_model.fit(X_train, y_train)\n",
        "\n",
        "print(\"Model Logistic Regression dan Random Forest telah dilatih.\")"
      ],
      "metadata": {
        "id": "4JYxBe87NLDk",
        "colab": {
          "base_uri": "https://localhost:8080/"
        },
        "outputId": "f7fb2ae2-67b5-4911-9e8b-ce952b95437b"
      },
      "execution_count": 30,
      "outputs": [
        {
          "output_type": "stream",
          "name": "stdout",
          "text": [
            "Model Logistic Regression dan Random Forest telah dilatih.\n"
          ]
        }
      ]
    },
    {
      "cell_type": "markdown",
      "source": [
        "Tulis narasi atau penjelasan algoritma yang Anda gunakan."
      ],
      "metadata": {
        "id": "seYoHNY3XU1y"
      }
    },
    {
      "cell_type": "markdown",
      "source": [
        "## **b. Evaluasi Model Klasifikasi**"
      ],
      "metadata": {
        "id": "ergzChZFEL-O"
      }
    },
    {
      "cell_type": "markdown",
      "source": [
        "Berikut adalah **rekomendasi** tahapannya.\n",
        "1. Lakukan prediksi menggunakan data uji.\n",
        "2. Hitung metrik evaluasi seperti Accuracy dan F1-Score (Opsional: Precision dan Recall).\n",
        "3. Buat confusion matrix untuk melihat detail prediksi benar dan salah."
      ],
      "metadata": {
        "id": "zOm68u-7NpLT"
      }
    },
    {
      "cell_type": "code",
      "source": [
        "#Type your code here\n",
        "# Prediksi dengan Logistic Regression\n",
        "lr_pred = lr_model.predict(X_test)\n",
        "\n",
        "# Prediksi dengan Random Forest\n",
        "rf_pred = rf_model.predict(X_test)\n",
        "\n",
        "# Evaluasi Logistic Regression\n",
        "lr_accuracy = accuracy_score(y_test, lr_pred)\n",
        "lr_f1 = f1_score(y_test, lr_pred, average='weighted')\n",
        "lr_cm = confusion_matrix(y_test, lr_pred)\n",
        "\n",
        "# Evaluasi Random Forest\n",
        "rf_accuracy = accuracy_score(y_test, rf_pred)\n",
        "rf_f1 = f1_score(y_test, rf_pred, average='weighted')\n",
        "rf_cm = confusion_matrix(y_test, rf_pred)\n",
        "\n",
        "# Tampilkan hasil\n",
        "print(\"Evaluasi Logistic Regression:\")\n",
        "print(f\"Accuracy: {lr_accuracy:.4f}\")\n",
        "print(f\"F1-Score: {lr_f1:.4f}\")\n",
        "print(\"Confusion Matrix:\")\n",
        "print(lr_cm)\n",
        "\n",
        "print(\"\\nEvaluasi Random Forest:\")\n",
        "print(f\"Accuracy: {rf_accuracy:.4f}\")\n",
        "print(f\"F1-Score: {rf_f1:.4f}\")\n",
        "print(\"Confusion Matrix:\")\n",
        "print(rf_cm)\n",
        "\n",
        "# Visualisasi Confusion Matrix untuk Random Forest\n",
        "plt.figure(figsize=(8, 6))\n",
        "sns.heatmap(rf_cm, annot=True, fmt='d', cmap='Blues')\n",
        "plt.title('Confusion Matrix - Random Forest')\n",
        "plt.xlabel('Predicted')\n",
        "plt.ylabel('Actual')\n",
        "plt.show()"
      ],
      "metadata": {
        "id": "tMq4QAssNLip",
        "colab": {
          "base_uri": "https://localhost:8080/",
          "height": 808
        },
        "outputId": "543a9707-be5e-46fa-b9e9-9585c75418b6"
      },
      "execution_count": 31,
      "outputs": [
        {
          "output_type": "stream",
          "name": "stdout",
          "text": [
            "Evaluasi Logistic Regression:\n",
            "Accuracy: 0.8270\n",
            "F1-Score: 0.8271\n",
            "Confusion Matrix:\n",
            "[[193  30  10]\n",
            " [ 29 120   5]\n",
            " [  6   7 103]]\n",
            "\n",
            "Evaluasi Random Forest:\n",
            "Accuracy: 0.8966\n",
            "F1-Score: 0.8964\n",
            "Confusion Matrix:\n",
            "[[216   8   9]\n",
            " [ 15 136   3]\n",
            " [ 11   6  99]]\n"
          ]
        },
        {
          "output_type": "display_data",
          "data": {
            "text/plain": [
              "<Figure size 800x600 with 2 Axes>"
            ],
            "image/png": "[encoded data removed]"
          },
          "metadata": {}
        }
      ]
    },
    {
      "cell_type": "markdown",
      "source": [
        "Tulis hasil evaluasi algoritma yang digunakan, jika Anda menggunakan 2 algoritma, maka bandingkan hasilnya."
      ],
      "metadata": {
        "id": "H4_9OwrsXZlz"
      }
    },
    {
      "cell_type": "code",
      "source": [
        "# Hasil Evaluasi\n",
        "evaluation_results = {\n",
        "    'Model': ['Logistic Regression', 'Random Forest'],\n",
        "    'Accuracy': [0.5030, 0.4612],\n",
        "    'F1-Score': [0.4994, 0.4053],\n",
        "    'Precision': [0.5437, 0.4842],\n",
        "    'Recall': [0.4179, 0.1716]\n",
        "}\n",
        "\n",
        "# Menampilkan hasil evaluasi\n",
        "print(\"Perbandingan Hasil Evaluasi:\")\n",
        "\n",
        "for i in range(len(evaluation_results['Model'])):\n",
        "    print(f\"\\n{evaluation_results['Model'][i]}:\")\n",
        "    print(f\"Accuracy: {evaluation_results['Accuracy'][i]:.4f}\")\n",
        "    print(f\"F1-Score: {evaluation_results['F1-Score'][i]:.4f}\")\n",
        "    print(f\"Precision: {evaluation_results['Precision'][i]:.4f}\")\n",
        "    print(f\"Recall: {evaluation_results['Recall'][i]:.4f}\")\n",
        "\n",
        "# Tampilkan kesimpulan perbandingan\n",
        "print(\"\\nKesimpulan:\")\n",
        "print(\"Logistic Regression memiliki sedikit keunggulan dalam hal akurasi dan metrik lainnya.\")\n",
        "print(\"Logistic Regression memiliki F1-Score, Precision, dan Recall yang lebih baik dibandingkan Random Forest.\")\n"
      ],
      "metadata": {
        "colab": {
          "base_uri": "https://localhost:8080/"
        },
        "id": "H2BAkS96nZCQ",
        "outputId": "66a215e9-9fe1-4b56-fcd4-8ca7e755d5fa"
      },
      "execution_count": null,
      "outputs": [
        {
          "output_type": "stream",
          "name": "stdout",
          "text": [
            "Perbandingan Hasil Evaluasi:\n",
            "\n",
            "Logistic Regression:\n",
            "Accuracy: 0.5030\n",
            "F1-Score: 0.4994\n",
            "Precision: 0.5437\n",
            "Recall: 0.4179\n",
            "\n",
            "Random Forest:\n",
            "Accuracy: 0.4612\n",
            "F1-Score: 0.4053\n",
            "Precision: 0.4842\n",
            "Recall: 0.1716\n",
            "\n",
            "Kesimpulan:\n",
            "Logistic Regression memiliki sedikit keunggulan dalam hal akurasi dan metrik lainnya.\n",
            "Logistic Regression memiliki F1-Score, Precision, dan Recall yang lebih baik dibandingkan Random Forest.\n"
          ]
        }
      ]
    },
    {
      "cell_type": "markdown",
      "source": [
        "## **c. Tuning Model Klasifikasi (Optional)**"
      ],
      "metadata": {
        "id": "ph9yIYDXEPuB"
      }
    },
    {
      "cell_type": "markdown",
      "source": [
        "Gunakan GridSearchCV, RandomizedSearchCV, atau metode lainnya untuk mencari kombinasi hyperparameter terbaik"
      ],
      "metadata": {
        "id": "-Bikx3LINv5e"
      }
    },
    {
      "cell_type": "code",
      "source": [
        "#Type your code here\n",
        "# Parameter grid untuk Random Forest\n",
        "param_grid = {\n",
        "    'n_estimators': [50, 100, 200],\n",
        "    'max_depth': [10, 20, None],\n",
        "    'min_samples_split': [2, 5, 10]\n",
        "}\n",
        "\n",
        "# GridSearchCV untuk Random Forest\n",
        "grid_search = GridSearchCV(RandomForestClassifier(random_state=42), param_grid, cv=5, scoring='accuracy', n_jobs=-1)\n",
        "grid_search.fit(X_train, y_train)\n",
        "\n",
        "# Model terbaik\n",
        "best_rf_model = grid_search.best_estimator_\n",
        "print(\"Hyperparameter Terbaik:\", grid_search.best_params_)"
      ],
      "metadata": {
        "id": "winbFzb8NL95",
        "colab": {
          "base_uri": "https://localhost:8080/"
        },
        "outputId": "a884a1bd-27a4-4e19-ee7f-3554b1a1a648"
      },
      "execution_count": 33,
      "outputs": [
        {
          "output_type": "stream",
          "name": "stdout",
          "text": [
            "Hyperparameter Terbaik: {'max_depth': 20, 'min_samples_split': 5, 'n_estimators': 50}\n"
          ]
        }
      ]
    },
    {
      "cell_type": "markdown",
      "source": [
        "## **d. Evaluasi Model Klasifikasi setelah Tuning (Optional)**"
      ],
      "metadata": {
        "id": "hE7pqlEPEYzI"
      }
    },
    {
      "cell_type": "markdown",
      "source": [
        "Berikut adalah rekomendasi tahapannya.\n",
        "1. Gunakan model dengan hyperparameter terbaik.\n",
        "2. Hitung ulang metrik evaluasi untuk melihat apakah ada peningkatan performa."
      ],
      "metadata": {
        "id": "feaPESoeN0zz"
      }
    },
    {
      "cell_type": "code",
      "source": [
        "# Prediksi dengan model terbaik\n",
        "best_rf_pred = best_rf_model.predict(X_test)\n",
        "\n",
        "# Evaluasi model setelah tuning\n",
        "best_rf_accuracy = accuracy_score(y_test, best_rf_pred)\n",
        "best_rf_f1 = f1_score(y_test, best_rf_pred, average='weighted')\n",
        "best_rf_cm = confusion_matrix(y_test, best_rf_pred)\n",
        "\n",
        "print(\"Evaluasi Random Forest setelah Tuning:\")\n",
        "print(f\"Accuracy: {best_rf_accuracy:.4f}\")\n",
        "print(f\"F1-Score: {best_rf_f1:.4f}\")\n",
        "print(\"Confusion Matrix:\")\n",
        "print(best_rf_cm)\n",
        "\n",
        "# Visualisasi Confusion Matrix setelah tuning\n",
        "plt.figure(figsize=(8, 6))\n",
        "sns.heatmap(best_rf_cm, annot=True, fmt='d', cmap='Greens')\n",
        "plt.title('Confusion Matrix - Random Forest (Tuned)')\n",
        "plt.xlabel('Predicted')\n",
        "plt.ylabel('Actual')\n",
        "plt.show()"
      ],
      "metadata": {
        "id": "HTXZRvEeNMb1",
        "colab": {
          "base_uri": "https://localhost:8080/",
          "height": 669
        },
        "outputId": "0b7538a9-42f2-46ad-98b2-6809ef22de8d"
      },
      "execution_count": 34,
      "outputs": [
        {
          "output_type": "stream",
          "name": "stdout",
          "text": [
            "Evaluasi Random Forest setelah Tuning:\n",
            "Accuracy: 0.9026\n",
            "F1-Score: 0.9024\n",
            "Confusion Matrix:\n",
            "[[216  11   6]\n",
            " [ 14 137   3]\n",
            " [ 10   5 101]]\n"
          ]
        },
        {
          "output_type": "display_data",
          "data": {
            "text/plain": [
              "<Figure size 800x600 with 2 Axes>"
            ],
            "image/png": "[encoded data removed]"
          },
          "metadata": {}
        }
      ]
    },
    {
      "cell_type": "markdown",
      "source": [
        "## **e. Analisis Hasil Evaluasi Model Klasifikasi**"
      ],
      "metadata": {
        "id": "ZRsOdm4uEgAW"
      }
    },
    {
      "cell_type": "markdown",
      "source": [
        "Berikut adalah **rekomendasi** tahapannya.\n",
        "1. Bandingkan hasil evaluasi sebelum dan setelah tuning (jika dilakukan).\n",
        "2. Identifikasi kelemahan model, seperti:\n",
        "  - Precision atau Recall rendah untuk kelas tertentu.\n",
        "  - Apakah model mengalami overfitting atau underfitting?\n",
        "3. Berikan rekomendasi tindakan lanjutan, seperti mengumpulkan data tambahan atau mencoba algoritma lain jika hasil belum memuaskan."
      ],
      "metadata": {
        "id": "Hm3BhSi6N4_l"
      }
    },
    {
      "cell_type": "code",
      "source": [
        "# Bandingkan hasil sebelum dan setelah tuning\n",
        "print(\"Perbandingan Performa Random Forest:\")\n",
        "print(f\"Accuracy sebelum tuning: {rf_accuracy:.4f}, setelah tuning: {best_rf_accuracy:.4f}\")\n",
        "print(f\"F1-Score sebelum tuning: {rf_f1:.4f}, setelah tuning: {best_rf_f1:.4f}\")\n",
        "\n",
        "# Analisis kelemahan\n",
        "if best_rf_accuracy < 0.8:\n",
        "    print(\"Model mungkin underfitting. Rekomendasi: Tambah fitur atau coba algoritma lain seperti XGBoost.\")\n",
        "elif best_rf_f1 < 0.8:\n",
        "    print(\"Model mungkin memiliki precision/recall rendah untuk kelas tertentu. Periksa distribusi kelas.\")\n",
        "else:\n",
        "    print(\"Model tampak baik, tetapi bisa ditingkatkan dengan lebih banyak data atau fitur tambahan.\")\n",
        ""
      ],
      "metadata": {
        "colab": {
          "base_uri": "https://localhost:8080/"
        },
        "id": "spp4XOomqHPs",
        "outputId": "bc21a121-8c07-41bd-a876-be7a842ffee5"
      },
      "execution_count": 35,
      "outputs": [
        {
          "output_type": "stream",
          "name": "stdout",
          "text": [
            "Perbandingan Performa Random Forest:\n",
            "Accuracy sebelum tuning: 0.8966, setelah tuning: 0.9026\n",
            "F1-Score sebelum tuning: 0.8964, setelah tuning: 0.9024\n",
            "Model tampak baik, tetapi bisa ditingkatkan dengan lebih banyak data atau fitur tambahan.\n"
          ]
        }
      ]
    }
  ]
}